{
 "cells": [
  {
   "cell_type": "code",
   "execution_count": null,
   "id": "1b271940",
   "metadata": {},
   "outputs": [],
   "source": [
    "def validate_username(username: str) -> bool:\n",
    "    if len(username) < 5 or len(username) > 15:\n",
    "        print(\"エラー: ユーザー名は5文字以上15文字以内で入力してください\")\n",
    "        return False\n",
    "\n",
    "    if \" \" in username:\n",
    "        print(\"エラー: ユーザー名に空白を含めることはできません\")\n",
    "        return False\n",
    "\n",
    "    if not username.isalnum():\n",
    "        print(\"エラー: ユーザー名は英数字のみ使用できます\")\n",
    "        return False\n",
    "\n",
    "    print(\"ユーザー名は有効です\")\n",
    "    return True"
   ]
  },
  {
   "cell_type": "code",
   "execution_count": 3,
   "id": "d62ead76",
   "metadata": {},
   "outputs": [
    {
     "name": "stdout",
     "output_type": "stream",
     "text": [
      "ユーザー名： JohnDoe123\n",
      "ユーザー名は有効です\n"
     ]
    }
   ],
   "source": [
    "username = input(\"ユーザー名を入力してください： \")\n",
    "print(f\"ユーザー名： {username}\")\n",
    "\n",
    "if not validate_username(username):\n",
    "    print(\"不正なユーザー名です\")"
   ]
  },
  {
   "cell_type": "code",
   "execution_count": 4,
   "id": "7c389ca6",
   "metadata": {},
   "outputs": [
    {
     "name": "stdout",
     "output_type": "stream",
     "text": [
      "ユーザー名： JD\n",
      "エラー: ユーザー名は5文字以上15文字以内で入力してください\n",
      "不正なユーザー名です\n"
     ]
    }
   ],
   "source": [
    "username = input(\"ユーザー名を入力してください： \")\n",
    "print(f\"ユーザー名： {username}\")\n",
    "\n",
    "if not validate_username(username):\n",
    "    print(\"不正なユーザー名です\")"
   ]
  },
  {
   "cell_type": "code",
   "execution_count": 5,
   "id": "a5205fa3",
   "metadata": {},
   "outputs": [
    {
     "name": "stdout",
     "output_type": "stream",
     "text": [
      "ユーザー名： John@Due\n",
      "エラー: ユーザー名は英数字のみ使用できます\n",
      "不正なユーザー名です\n"
     ]
    }
   ],
   "source": [
    "username = input(\"ユーザー名を入力してください： \")\n",
    "print(f\"ユーザー名： {username}\")\n",
    "\n",
    "if not validate_username(username):\n",
    "    print(\"不正なユーザー名です\")"
   ]
  },
  {
   "cell_type": "code",
   "execution_count": 6,
   "id": "26b87279",
   "metadata": {},
   "outputs": [
    {
     "name": "stdout",
     "output_type": "stream",
     "text": [
      "ユーザー名： John Doe\n",
      "エラー: ユーザー名に空白を含めることはできません\n",
      "不正なユーザー名です\n"
     ]
    }
   ],
   "source": [
    "username = input(\"ユーザー名を入力してください： \")\n",
    "print(f\"ユーザー名： {username}\")\n",
    "\n",
    "if not validate_username(username):\n",
    "    print(\"不正なユーザー名です\")"
   ]
  }
 ],
 "metadata": {
  "kernelspec": {
   "display_name": ".venv (3.9.6)",
   "language": "python",
   "name": "python3"
  },
  "language_info": {
   "codemirror_mode": {
    "name": "ipython",
    "version": 3
   },
   "file_extension": ".py",
   "mimetype": "text/x-python",
   "name": "python",
   "nbconvert_exporter": "python",
   "pygments_lexer": "ipython3",
   "version": "3.12.7"
  }
 },
 "nbformat": 4,
 "nbformat_minor": 5
}

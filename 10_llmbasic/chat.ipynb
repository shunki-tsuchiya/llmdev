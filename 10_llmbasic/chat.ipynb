{
 "cells": [
  {
   "cell_type": "code",
   "execution_count": 4,
   "id": "347d650a",
   "metadata": {},
   "outputs": [
    {
     "name": "stdout",
     "output_type": "stream",
     "text": [
      "{'_request_id': 'req_3903d3de8159428c9c168e56c99acf9d',\n",
      " 'choices': [Choice(finish_reason='stop', index=0, logprobs=None, message=ChatCompletionMessage(content='言語モデルを使う上でのポイントはいくつかあります。以下に主なポイントを挙げます。\\n\\n1. **目的の明確化**: 何のために言語モデルを使うのか、具体的な目的を明確にしましょう。例えば、文章の生成、要約、翻訳、質問応答など、異なる用途に応じて設定を調整する必要があります。\\n\\n2. **入力の工夫**: モデルに与える入力（プロンプト）を工夫することで、得られる出力が大きく変わります。明確で具体的な指示や文脈を提供することが重要です。\\n\\n3. **適切なモデルの選択**: 言語モデルには様々な種類があります。タスクや規模に応じて適切なモデルを選択することが重要です。\\n\\n4. **結果の評価**: 出力結果の品質を評価する必要があります。特に、生成されたテキストが正確かつ一貫性があるか、また倫理的に問題がないかを確認します。\\n\\n5. **バイアスと倫理**: 言語モデルは訓練データに基づいているため、バイアスや不適切な内容が含まれる可能性があります。結果を使用する際には、その点を考慮する必要があります。\\n\\n6. **フィードバックの反映**: モデルの出力についてフィードバックを得たり、必要に応じて調整したりすることが重要です。ユーザーからの反応をもとに改善を図ることができます。\\n\\n7. **持続的な学習**: 言語モデルの技術は日々進化していますので、新しい情報や技術を積極的に学び続けることが大切です。\\n\\nこれらのポイントを踏まえながら、言語モデルを効果的に活用していくことができます。', refusal=None, role='assistant', annotations=[], audio=None, function_call=None, tool_calls=None))],\n",
      " 'created': 1756103791,\n",
      " 'id': 'chatcmpl-C8L6dhqlGLTqRepVHInb5RD72LBzC',\n",
      " 'model': 'gpt-4o-mini-2024-07-18',\n",
      " 'object': 'chat.completion',\n",
      " 'service_tier': 'default',\n",
      " 'system_fingerprint': 'fp_560af6e559',\n",
      " 'usage': CompletionUsage(completion_tokens=445, prompt_tokens=18, total_tokens=463, completion_tokens_details=CompletionTokensDetails(accepted_prediction_tokens=0, audio_tokens=0, reasoning_tokens=0, rejected_prediction_tokens=0), prompt_tokens_details=PromptTokensDetails(audio_tokens=0, cached_tokens=0))}\n",
      "言語モデルを使う上でのポイントはいくつかあります。以下に主なポイントを挙げます。\n",
      "\n",
      "1. **目的の明確化**: 何のために言語モデルを使うのか、具体的な目的を明確にしましょう。例えば、文章の生成、要約、翻訳、質問応答など、異なる用途に応じて設定を調整する必要があります。\n",
      "\n",
      "2. **入力の工夫**: モデルに与える入力（プロンプト）を工夫することで、得られる出力が大きく変わります。明確で具体的な指示や文脈を提供することが重要です。\n",
      "\n",
      "3. **適切なモデルの選択**: 言語モデルには様々な種類があります。タスクや規模に応じて適切なモデルを選択することが重要です。\n",
      "\n",
      "4. **結果の評価**: 出力結果の品質を評価する必要があります。特に、生成されたテキストが正確かつ一貫性があるか、また倫理的に問題がないかを確認します。\n",
      "\n",
      "5. **バイアスと倫理**: 言語モデルは訓練データに基づいているため、バイアスや不適切な内容が含まれる可能性があります。結果を使用する際には、その点を考慮する必要があります。\n",
      "\n",
      "6. **フィードバックの反映**: モデルの出力についてフィードバックを得たり、必要に応じて調整したりすることが重要です。ユーザーからの反応をもとに改善を図ることができます。\n",
      "\n",
      "7. **持続的な学習**: 言語モデルの技術は日々進化していますので、新しい情報や技術を積極的に学び続けることが大切です。\n",
      "\n",
      "これらのポイントを踏まえながら、言語モデルを効果的に活用していくことができます。\n"
     ]
    }
   ],
   "source": [
    "# 必要なモジュールをインポート\n",
    "import os\n",
    "from dotenv import load_dotenv\n",
    "from openai import OpenAI\n",
    "from pprint import pprint\n",
    "\n",
    "# 環境変数の取得\n",
    "load_dotenv(\"../.env\")\n",
    "\n",
    "# OpenAI APIクライアントを生成\n",
    "client = OpenAI(api_key=os.environ['OPENAI_API_KEY'])\n",
    "\n",
    "# モデル名\n",
    "MODEL_NAME = \"gpt-4o-mini\"\n",
    "\n",
    "# メッセージの設定\n",
    "message = \"言語モデルを使う上でのポイントは\"\n",
    "\n",
    "# APIへリクエスト\n",
    "response = client.chat.completions.create(\n",
    "    model=MODEL_NAME,\n",
    "    messages=[\n",
    "        {\"role\": \"user\", \"content\": message},\n",
    "    ]\n",
    ")\n",
    "\n",
    "# レスポンスの表示\n",
    "pprint(vars(response))\n",
    "\n",
    "# 言語モデルからの回答を表示\n",
    "print(response.choices[0].message.content.strip())"
   ]
  },
  {
   "cell_type": "code",
   "execution_count": 5,
   "id": "321dd9d9",
   "metadata": {},
   "outputs": [
    {
     "name": "stdout",
     "output_type": "stream",
     "text": [
      "新製品の発売に向けた効果的なマーケティング戦略は以下のステップに基づいて設計できます。\n",
      "\n",
      "### 1. ターゲット市場の定義\n",
      "- **市場調査**: ターゲットとなる顧客層を特定し、そのニーズや嗜好を理解します。\n",
      "- **ペルソナの作成**: 顧客の典型的なプロフィール（年齢、性別、職業、趣味、購買動機など）を作成します。\n",
      "\n",
      "### 2. 製品の差別化\n",
      "- **USPの明確化**: 製品の独自のセールスポイント（Unique Selling Proposition）を明確にし、競合との違いを打ち出します。\n",
      "- **ブランドストーリー**: 製品やブランドに関連するストーリーを作成し、感情に訴えるアプローチを取ります。\n",
      "\n",
      "### 3. マーケティングチャネルの選定\n",
      "- **オンラインおよびオフライン戦略**: SNS、SEO、メールマーケティング、PR、イベントなど、多様なチャネルを組み合わせて展開します。\n",
      "- **インフルエンサーとの連携**: ターゲット層に影響力のあるインフルエンサーと協力し、製品の認知度を向上させます。\n",
      "\n",
      "### 4. プロモーション計画\n",
      "- **ティーザーキャンペーン**: 発売前にティーザー広告やカウントダウンを実施し、期待感を高めます。\n",
      "- **特別オファー**: 発売日やリリース前後に特別な割引や特典を提供し、早期の購買を促します。\n",
      "\n",
      "### 5. 発売イベントの開催\n",
      "- **ローンチイベント**: オフラインまたはオンラインでローンチイベントを開催し、メディアやインフルエンサーを招待します。\n",
      "- **デモや体験会**: 顧客が製品を実際に体験できる機会を提供し、フィードバックを得る場を設けます。\n",
      "\n",
      "### 6. 顧客フィードバックの収集\n",
      "- **アンケートやレビュー**: 製品を使用した顧客からのフィードバックを収集し、改善点を把握します。\n",
      "- **継続的なエンゲージメント**: SNSやメールを通じて顧客と対話し、ブランドのロイヤルティを高めます。\n",
      "\n",
      "### 7. 成果の分析\n",
      "- **KPIの設定**: 成果を評価するための重要業績評価指標（KPI）を設定し、キャンペーンの効果を測定します。\n",
      "- **リターン・オン・インベストメント（ROI）の評価**: 売上やリード数の変化を分析し、次回に向けた戦略の改善点を見つけます。\n",
      "\n",
      "### 8. 継続的な市場調査と最適化\n",
      "- **業界トレンドの把握**: 常に変化する市場環境に応じて、戦略を見直し、最適化します。\n",
      "- **顧客の声の反映**: 最初のフィードバックを基に製品やサービスを改善し続ける姿勢が重要です。\n",
      "\n",
      "これらのステップを体系的に実行することで、新製品の発売を成功に導き、ブランドの認知度や売上の向上に繋げることができます。\n"
     ]
    }
   ],
   "source": [
    "# 役割や前提の設定\n",
    "role = \"あなたはマーケティング分野に精通したビジネスコンサルタントです。企業の成長をサポートするために、効果的なマーケティング戦略を提供します。\"\n",
    "\n",
    "# メッセージの設定\n",
    "message = \"新製品の発売に向けた効果的なマーケティング戦略を教えてください。\"\n",
    "\n",
    "# APIへリクエスト\n",
    "response = client.chat.completions.create(\n",
    "    model=MODEL_NAME,\n",
    "    messages=[\n",
    "        {\"role\": \"system\", \"content\": role},\n",
    "        {\"role\": \"user\", \"content\": message},\n",
    "    ],\n",
    ")\n",
    "\n",
    "# 言語モデルからの回答を表示\n",
    "print(response.choices[0].message.content.strip())"
   ]
  },
  {
   "cell_type": "code",
   "execution_count": 6,
   "id": "0072720b",
   "metadata": {},
   "outputs": [
    {
     "name": "stdout",
     "output_type": "stream",
     "text": [
      "--------------------\n",
      "もちろんです！日本の魅力は多岐にわたりますが、いくつかの面白いポイントを紹介します。\n",
      "\n",
      "### 1. 文化と伝統\n",
      "- **茶道（さどう）:** 茶を点てる美しい儀式と、それに伴う心の美を大切にする文化。\n",
      "- **和服（わふく）:** 着物や浴衣などの伝統的な衣装は\n",
      "--------------------\n",
      "もちろんです！日本には多くの魅力がありますが、いくつか代表的なポイントをご紹介します。\n",
      "\n",
      "### 1. 文化と伝統\n",
      "- **手工芸**: 日本の伝統的な手工芸品（漆器、陶器、和紙など）は、その美しさと技術の高さで世界中に認められています。\n",
      "- **伝統行事**: アイデンティティが色濃\n",
      "--------------------\n",
      "日本は多様な文化、自然美、美味しい食文化など、さまざまな魅力を持った国です。以下にいくつかのポイントを紹介します。\n",
      "\n",
      "### 1. 伝統文化\n",
      "- **祭りや伝統行事**：日本各地で行われる祭りは、地域の特色や歴史を反映しており、色とりどりの衣装や踊りが楽しめ\n"
     ]
    }
   ],
   "source": [
    "# 出力の多様性\n",
    "message = \"日本の魅力を紹介して！\"\n",
    "\n",
    "# APIへリクエスト\n",
    "response = client.chat.completions.create(\n",
    "    model=MODEL_NAME,\n",
    "    messages=[\n",
    "        {\"role\": \"user\", \"content\": message},\n",
    "    ],\n",
    "    temperature=1.4,\n",
    "    n = 3, # 3回答を得る\n",
    "    max_completion_tokens = 100 # 出力トークン長を制限\n",
    ")\n",
    "\n",
    "# 結果を表示（複数回答を比較）\n",
    "for choice in response.choices:\n",
    "    print(\"-\" * 20)\n",
    "    print(choice.message.content.strip())"
   ]
  },
  {
   "cell_type": "code",
   "execution_count": 7,
   "id": "f902e20a",
   "metadata": {},
   "outputs": [
    {
     "name": "stdout",
     "output_type": "stream",
     "text": [
      "--------------------\n",
      "もちろんです！日本は多彩な魅力にあふれた国です。以下にいくつかの日本の魅力を紹介します。\n",
      "\n",
      "### 1. 文化と伝統\n",
      "日本は、古い伝統と現代文化が共存しています。伝統的な祭り、茶道、武道、着物など、文化的な体験が豊富です。特に、京都の古い寺院や神社、伝\n",
      "--------------------\n",
      "日本はその多様な文化、歴史、自然の美しさ、美味しい食べ物、そして先進的なテクノロジーによって、さまざまな魅力を持つ国です。以下は、日本の魅力をいくつか紹介します。\n",
      "\n",
      "### 1. 文化と歴史\n",
      "日本の文化は、古代からの伝統と現代的な要素が融合しています。たとえば、\n",
      "--------------------\n",
      "もちろんです！日本は多様な文化、自然、歴史、技術が融合した国で、さまざまな魅力があります。以下は日本の魅力のいくつかです。\n",
      "\n",
      "### 1. **美しい自然**\n",
      "日本は四季がはっきりしており、春の桜、夏の海、秋の紅葉、冬の雪景色など、さまざまな自然の美しさが楽し\n"
     ]
    }
   ],
   "source": [
    "# 出力の多様性\n",
    "message = \"日本の魅力を紹介して！\"\n",
    "\n",
    "# APIへリクエスト\n",
    "response = client.chat.completions.create(\n",
    "    model=MODEL_NAME,\n",
    "    messages=[\n",
    "        {\"role\": \"user\", \"content\": message},\n",
    "    ],\n",
    "    presence_penalty=-2.0,\n",
    "    n = 3, # 3回答を得る\n",
    "    max_completion_tokens = 100 # 出力トークン長を制限\n",
    ")\n",
    "\n",
    "# 結果を表示（複数回答を比較）\n",
    "for choice in response.choices:\n",
    "    print(\"-\" * 20)\n",
    "    print(choice.message.content.strip())"
   ]
  },
  {
   "cell_type": "code",
   "execution_count": 8,
   "id": "30072380",
   "metadata": {},
   "outputs": [
    {
     "name": "stdout",
     "output_type": "stream",
     "text": [
      "--------------------\n",
      "もちろんです！日本には多くの魅力がありますので、いくつか紹介します。\n",
      "\n",
      "1. **文化と歴史**: 日本は古代から続く豊かな文化と歴史を持っています。神社や寺院、城などを訪れれば、その深い伝統に触れることができます。例えば、京都の金閣寺や奈良の大仏は世界的にも有名です。\n",
      "\n",
      "2. **美しい自然**\n",
      "--------------------\n",
      "日本は、その独特な文化、歴史、美しい自然景観、先進的な技術など、多くの魅力を持つ国です。以下にいくつかのポイントを紹介します。\n",
      "\n",
      "1. **豊かな文化と伝統**:\n",
      "   - 日本は長い歴史を有し、古くからの伝統が今も大切にされています。お茶会や花道（いけばな）、武道など、日本ならでは\n",
      "--------------------\n",
      "もちろんです！日本にはさまざまな魅力があります。以下にいくつかのポイントを紹介します。\n",
      "\n",
      "### 1. 自然の美\n",
      "日本は四季がはっきりしており、春の桜、夏の海や山、秋の紅葉、冬の雪景色と、年間を通じて美しい自然が楽しめます。特に、富士山や竹林、温泉地などが有\n"
     ]
    }
   ],
   "source": [
    "# 出力の多様性\n",
    "message = \"日本の魅力を紹介して！\"\n",
    "\n",
    "# APIへリクエスト\n",
    "response = client.chat.completions.create(\n",
    "    model=MODEL_NAME,\n",
    "    messages=[\n",
    "        {\"role\": \"user\", \"content\": message},\n",
    "    ],\n",
    "    presence_penalty=2.0,\n",
    "    n = 3, # 3回答を得る\n",
    "    max_completion_tokens = 100 # 出力トークン長を制限\n",
    ")\n",
    "\n",
    "# 結果を表示（複数回答を比較）\n",
    "for choice in response.choices:\n",
    "    print(\"-\" * 20)\n",
    "    print(choice.message.content.strip())"
   ]
  },
  {
   "cell_type": "code",
   "execution_count": 9,
   "id": "fae1a888",
   "metadata": {},
   "outputs": [
    {
     "name": "stdout",
     "output_type": "stream",
     "text": [
      "tokens_count=2\n",
      "tokens=[95839, 3393]\n"
     ]
    }
   ],
   "source": [
    "import tiktoken\n",
    "from tiktoken.core import Encoding\n",
    "\n",
    "# OpenAI APIの特定のモデルに対応するトークナイザーを取得\n",
    "encoding: Encoding = tiktoken.encoding_for_model(MODEL_NAME) # o200k_base\n",
    "\n",
    "# テキストをトークンIDのリストに変換\n",
    "tokens = encoding.encode(\"こんにちは！\")\n",
    "tokens_count = len(tokens)\n",
    "\n",
    "# トークンの長さとトークンIDを表示\n",
    "print(f\"{tokens_count=}\")\n",
    "print(f\"{tokens=}\")"
   ]
  },
  {
   "cell_type": "code",
   "execution_count": 10,
   "id": "556c1e28",
   "metadata": {},
   "outputs": [
    {
     "name": "stdout",
     "output_type": "stream",
     "text": [
      "--------------------\n",
      "B:こんにちは！Aさん、元気ですか？\n",
      "--------------------\n",
      "B:こんにちは！Aさん、どうしたの？何か面白いことでもあった？\n",
      "--------------------\n",
      "B:こんにちは！Aさん！最近どうですか？\n"
     ]
    }
   ],
   "source": [
    "# トークンの選択度合い\n",
    "message = \"\"\"\n",
    "AさんとBさんで会話してください。\n",
    "A:あ、Bさんだ。\n",
    "B:\n",
    "\"\"\"\n",
    "\n",
    "# APIへリクエスト\n",
    "response = client.chat.completions.create(\n",
    "    model=MODEL_NAME,\n",
    "    messages=[\n",
    "        {\"role\": \"user\", \"content\": message},\n",
    "    ],\n",
    "    max_tokens=100,\n",
    "    n=3,\n",
    "    logit_bias = {95839:8, 3393:8}\n",
    ")\n",
    "\n",
    "# 結果を表示\n",
    "for choice in response.choices:\n",
    "    print(\"-\" * 20)\n",
    "    print(choice.message.content.strip())"
   ]
  },
  {
   "cell_type": "code",
   "execution_count": 12,
   "id": "e14e7441",
   "metadata": {},
   "outputs": [
    {
     "name": "stdout",
     "output_type": "stream",
     "text": [
      "言語モデルを効果的に活用するためのポイントはいくつかあります。以下に主要なものを挙げます。\n",
      "\n",
      "1. **目的を明確にする**: モデルを使用する目的を明確にすることが重要です。文章生成、情報検索、対話システムなど、具体的な用途を定めましょう。\n",
      "\n",
      "2. **プロンプトの設計**: プロンプトの内容は出力結果に大きな影響を与えます。具体的かつ明確なプロンプトを作成することで、より正確で質の高い結果を得られます。\n",
      "\n",
      "3. **コンテキストの提供**: システムに必要なコンテキスト情報を提供することで、より関連性の高い応答を引き出すことができます。\n",
      "\n",
      "4. **試行錯誤する**: 最初のプロンプトが必ずしも理想的な結果をもたらすわけではありません。いくつかの異なるプロンプトや設定を試してみて、最適な出力を見つけるプロセスが重要です。\n",
      "\n",
      "5. **多様性を意識する**: モデルからの出力には多様性があります。複数の結果を生成し、最も適切なものを選択する方法も有効です。\n",
      "\n",
      "6. **補完・編集の活用**: モデルが生成したテキストは、必ずしもそのままで使えるわけではありません。必要に応じて人間の手による編集や補完を行いましょう。\n",
      "\n",
      "7. **バイアスに注意する**: 言語モデルは訓練データに基づいているため、意図しないバイアスが含まれることがあります。出力を批判的に評価することが必要です。\n",
      "\n",
      "8. **利用規約と倫理**: モデルの利用にあたっては、関連する利用規約や倫理ガイドラインを遵守することが重要です。特に、データのプライバシーや著作権に注意を払いましょう。\n",
      "\n",
      "9. **フィードバックを活用する**: モデルの出力についてのフィードバックを収集し、それを基にプロンプトや使用法を改善していくことも大切です。\n",
      "\n",
      "これらのポイントを考慮しながら言語モデルを活用することで、より良い結果が得られるでしょう。"
     ]
    }
   ],
   "source": [
    "# メッセージの設定\n",
    "message = \"言語モデルを使う上でのポイントは\"\n",
    "\n",
    "# APIへリクエスト\n",
    "stream = client.chat.completions.create(\n",
    "    model=MODEL_NAME,\n",
    "    messages=[\n",
    "        {\"role\": \"user\", \"content\": message},\n",
    "    ],\n",
    "    stream=True,\n",
    ")\n",
    "\n",
    "for chunk in stream:\n",
    "    if chunk.choices:\n",
    "        if chunk.choices[0].delta.content is not None:\n",
    "            print(chunk.choices[0].delta.content, end=\"\")"
   ]
  }
 ],
 "metadata": {
  "kernelspec": {
   "display_name": ".venv (3.12.7)",
   "language": "python",
   "name": "python3"
  },
  "language_info": {
   "codemirror_mode": {
    "name": "ipython",
    "version": 3
   },
   "file_extension": ".py",
   "mimetype": "text/x-python",
   "name": "python",
   "nbconvert_exporter": "python",
   "pygments_lexer": "ipython3",
   "version": "3.12.7"
  }
 },
 "nbformat": 4,
 "nbformat_minor": 5
}

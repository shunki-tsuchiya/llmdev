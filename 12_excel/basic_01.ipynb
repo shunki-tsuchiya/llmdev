{
 "cells": [
  {
   "cell_type": "code",
   "execution_count": 1,
   "id": "f99547c0",
   "metadata": {},
   "outputs": [],
   "source": [
    "# 必要なモジュールをインポート\n",
    "import os\n",
    "from dotenv import load_dotenv\n",
    "from openai import OpenAI\n",
    "import pandas as pd\n",
    "\n",
    "# 環境変数の取得\n",
    "load_dotenv()\n",
    "\n",
    "# OpenAI APIクライアントを生成\n",
    "client = OpenAI(api_key=os.environ['OPENAI_API_KEY'])\n",
    "\n",
    "# モデル名\n",
    "MODEL_NAME = \"gpt-4o-mini\""
   ]
  },
  {
   "cell_type": "code",
   "execution_count": 2,
   "id": "85b356c8",
   "metadata": {},
   "outputs": [
    {
     "data": {
      "text/html": [
       "<div>\n",
       "<style scoped>\n",
       "    .dataframe tbody tr th:only-of-type {\n",
       "        vertical-align: middle;\n",
       "    }\n",
       "\n",
       "    .dataframe tbody tr th {\n",
       "        vertical-align: top;\n",
       "    }\n",
       "\n",
       "    .dataframe thead th {\n",
       "        text-align: right;\n",
       "    }\n",
       "</style>\n",
       "<table border=\"1\" class=\"dataframe\">\n",
       "  <thead>\n",
       "    <tr style=\"text-align: right;\">\n",
       "      <th></th>\n",
       "      <th>カテゴリー</th>\n",
       "      <th>商品コード</th>\n",
       "      <th>商品名</th>\n",
       "      <th>売上日</th>\n",
       "      <th>単価</th>\n",
       "      <th>数量</th>\n",
       "      <th>原価</th>\n",
       "    </tr>\n",
       "  </thead>\n",
       "  <tbody>\n",
       "    <tr>\n",
       "      <th>0</th>\n",
       "      <td>食品</td>\n",
       "      <td>1001</td>\n",
       "      <td>りんご</td>\n",
       "      <td>2023-01-01</td>\n",
       "      <td>200</td>\n",
       "      <td>50</td>\n",
       "      <td>120</td>\n",
       "    </tr>\n",
       "    <tr>\n",
       "      <th>1</th>\n",
       "      <td>食品</td>\n",
       "      <td>1002</td>\n",
       "      <td>バナナ</td>\n",
       "      <td>2023-01-01</td>\n",
       "      <td>150</td>\n",
       "      <td>100</td>\n",
       "      <td>80</td>\n",
       "    </tr>\n",
       "    <tr>\n",
       "      <th>2</th>\n",
       "      <td>食品</td>\n",
       "      <td>1003</td>\n",
       "      <td>牛乳</td>\n",
       "      <td>2023-01-02</td>\n",
       "      <td>180</td>\n",
       "      <td>80</td>\n",
       "      <td>100</td>\n",
       "    </tr>\n",
       "    <tr>\n",
       "      <th>3</th>\n",
       "      <td>衣服</td>\n",
       "      <td>2001</td>\n",
       "      <td>Tシャツ</td>\n",
       "      <td>2023-01-02</td>\n",
       "      <td>1500</td>\n",
       "      <td>20</td>\n",
       "      <td>800</td>\n",
       "    </tr>\n",
       "    <tr>\n",
       "      <th>4</th>\n",
       "      <td>衣服</td>\n",
       "      <td>2002</td>\n",
       "      <td>ジーンズ</td>\n",
       "      <td>2023-01-03</td>\n",
       "      <td>5000</td>\n",
       "      <td>10</td>\n",
       "      <td>2500</td>\n",
       "    </tr>\n",
       "  </tbody>\n",
       "</table>\n",
       "</div>"
      ],
      "text/plain": [
       "  カテゴリー  商品コード   商品名        売上日    単価   数量    原価\n",
       "0    食品   1001   りんご 2023-01-01   200   50   120\n",
       "1    食品   1002   バナナ 2023-01-01   150  100    80\n",
       "2    食品   1003    牛乳 2023-01-02   180   80   100\n",
       "3    衣服   2001  Tシャツ 2023-01-02  1500   20   800\n",
       "4    衣服   2002  ジーンズ 2023-01-03  5000   10  2500"
      ]
     },
     "execution_count": 2,
     "metadata": {},
     "output_type": "execute_result"
    }
   ],
   "source": [
    "# 1. Excelファイルを読み込む\n",
    "df = pd.read_excel('サンプルデータ.xlsx', sheet_name='売上データ')\n",
    "# データフレームを表示して確認\n",
    "df.head()"
   ]
  },
  {
   "cell_type": "code",
   "execution_count": 3,
   "id": "ab7709fd",
   "metadata": {},
   "outputs": [
    {
     "name": "stdout",
     "output_type": "stream",
     "text": [
      "売上データ:\n",
      "    カテゴリー 商品コード      商品名         売上日    単価   数量    原価\n",
      "0      食品  1001      りんご  2023-01-01   200   50   120\n",
      "1      食品  1002      バナナ  2023-01-01   150  100    80\n",
      "2      食品  1003       牛乳  2023-01-02   180   80   100\n",
      "3      衣服  2001     Tシャツ  2023-01-02  1500   20   800\n",
      "4      衣服  2002     ジーンズ  2023-01-03  5000   10  2500\n",
      "..    ...   ...      ...         ...   ...  ...   ...\n",
      "235    衣服  2077   レインパンツ  2023-04-28  2000   18  1000\n",
      "236    食品  1085      ザクロ  2023-04-29   600   40   300\n",
      "237   日用品  3077    バスブラシ  2023-04-29   400   60   200\n",
      "238    衣服  2078  レインシューズ  2023-04-30  2500   15  1250\n",
      "239    食品  1086    ココナッツ  2023-04-30   300   80   150\n",
      "\n",
      "[240 rows x 7 columns]\n",
      "この売上データの傾向を分析してください。\n"
     ]
    }
   ],
   "source": [
    "# 2. データをLLM用にテキスト形式に変換\n",
    "# データフレーム全体を文字列に変換\n",
    "sales_data_text = df.astype(str)\n",
    "prompt_text = f\"売上データ:\\n{sales_data_text}\\nこの売上データの傾向を分析してください。\"\n",
    "# 表示して確認\n",
    "print(prompt_text)"
   ]
  },
  {
   "cell_type": "code",
   "execution_count": 4,
   "id": "11fe80e3",
   "metadata": {},
   "outputs": [
    {
     "name": "stdout",
     "output_type": "stream",
     "text": [
      "売上データから傾向を分析するためには、いくつかの重要なポイントを考慮する必要があります。以下は、データの傾向を分析する際の主要な観点と、いくつかの示唆です。\n",
      "\n",
      "### 1. カテゴリー別売上分析\n",
      "- **売上高**: 各カテゴリー（食品、衣服、日用品）ごとの売上高を集計し、どのカテゴリーが最も売上を上げているかを特定します。\n",
      "- **利益率**: 各商品の単価と原価から利益を計算し、どのカテゴリーが最も高い利益率を持っているか分析します。\n",
      "\n",
      "### 2. 商品別パフォーマンス\n",
      "- **売上ランキング**: 単価、数量、売上高で商品別にランキングを作成し、人気の商品を特定します。\n",
      "- **在庫管理**: 売上数量に基づいて在庫の適切な水準を確保するための分析を行います。特に、人気商品については在庫が不足しないように注意します。\n",
      "\n",
      "### 3. 時間的傾向\n",
      "- **売上の季節性**: 売上日を基に月ごとの売上推移を分析し、季節性のトレンドを見つけます。特に閑散期とピーク期を特定します。\n",
      "- **プロモーション効果**: 特定の日や月にプロモーションを行った場合、売上にどのような影響があったかを分析します。プロモーション前後の売上を比較します。\n",
      "\n",
      "### 4. 顧客の購買行動\n",
      "- **頻繁に購入される商品**: リピート率が高い商品を特定し、その商品に対するマーケティング戦略を強化します。\n",
      "- **セット販売の機会**: しばしば一緒に購入される商品のパターンを見つけ、バンドル販売やセット販売の機会を探ります。\n",
      "\n",
      "### 5. その他の洞察\n",
      "- **競合分析**: 他の競合と比較して、自社商品がどのように位置付けられているかを確認します。競合商品の価格や特徴と比較することで、自社の競争力を評価します。\n",
      "\n",
      "### 結論\n",
      "これらの観点から売上データを緻密に分析することで、企業は効率的にリソースを配分し、マーケティング戦略を最適化することができます。データの詳細を分析し、実際の数値を取得することで、さらに具体的で実行可能なインサイトを導出することが可能になります。\n"
     ]
    }
   ],
   "source": [
    "# 3. OpenAI APIの呼び出し\n",
    "\n",
    "# 役割を設定\n",
    "role = \"あなたはマーケティング分野に精通したデータサイエンティストです。企業の成長をサポートするために、効果的なインサイトを提供します。\"\n",
    "\n",
    "# APIへリクエスト\n",
    "response = client.chat.completions.create(\n",
    "    model=MODEL_NAME,\n",
    "    messages=[\n",
    "        {\"role\": \"system\", \"content\": role},\n",
    "        {\"role\": \"user\", \"content\": prompt_text},\n",
    "    ],\n",
    ")\n",
    "\n",
    "# LLMからの回答を表示\n",
    "print(response.choices[0].message.content.strip())"
   ]
  },
  {
   "cell_type": "code",
   "execution_count": 5,
   "id": "57297181",
   "metadata": {},
   "outputs": [
    {
     "name": "stdout",
     "output_type": "stream",
     "text": [
      "                                                   結果\n",
      "0   売上データから傾向を分析するためには、いくつかの重要なポイントを考慮する必要があります。以下...\n",
      "1                                                    \n",
      "2                                   ### 1. カテゴリー別売上分析\n",
      "3   - **売上高**: 各カテゴリー（食品、衣服、日用品）ごとの売上高を集計し、どのカテゴリー...\n",
      "4   - **利益率**: 各商品の単価と原価から利益を計算し、どのカテゴリーが最も高い利益率を持...\n",
      "5                                                    \n",
      "6                                   ### 2. 商品別パフォーマンス\n",
      "7   - **売上ランキング**: 単価、数量、売上高で商品別にランキングを作成し、人気の商品を特...\n",
      "8   - **在庫管理**: 売上数量に基づいて在庫の適切な水準を確保するための分析を行います。特...\n",
      "9                                                    \n",
      "10                                       ### 3. 時間的傾向\n",
      "11  - **売上の季節性**: 売上日を基に月ごとの売上推移を分析し、季節性のトレンドを見つけま...\n",
      "12  - **プロモーション効果**: 特定の日や月にプロモーションを行った場合、売上にどのような...\n",
      "13                                                   \n",
      "14                                     ### 4. 顧客の購買行動\n",
      "15  - **頻繁に購入される商品**: リピート率が高い商品を特定し、その商品に対するマーケティ...\n",
      "16  - **セット販売の機会**: しばしば一緒に購入される商品のパターンを見つけ、バンドル販売...\n",
      "17                                                   \n",
      "18                                      ### 5. その他の洞察\n",
      "19  - **競合分析**: 他の競合と比較して、自社商品がどのように位置付けられているかを確認し...\n",
      "20                                                   \n",
      "21                                             ### 結論\n",
      "22  これらの観点から売上データを緻密に分析することで、企業は効率的にリソースを配分し、マーケティ...\n"
     ]
    }
   ],
   "source": [
    "# 4. 分析結果をデータフレームに変換\n",
    "result_list = response.choices[0].message.content.strip().split(\"\\n\")\n",
    "df_out = pd.DataFrame(result_list, columns=['結果'])\n",
    "print(df_out)"
   ]
  },
  {
   "cell_type": "code",
   "execution_count": 6,
   "id": "c5e097a8",
   "metadata": {},
   "outputs": [],
   "source": [
    "# 5. 結果をExcelファイルに保存\n",
    "df_out.to_excel(\"売上データ分析結果.xlsx\", index=False)"
   ]
  },
  {
   "cell_type": "code",
   "execution_count": 7,
   "id": "41329e7e",
   "metadata": {},
   "outputs": [
    {
     "name": "stdout",
     "output_type": "stream",
     "text": [
      "処理を開始します。\n",
      "Excelファイルに分析結果を保存しました。\n"
     ]
    }
   ],
   "source": [
    "# ワークフロー化\n",
    "print(\"処理を開始します。\")\n",
    "\n",
    "# 1. Excelファイルを読み込む\n",
    "df = pd.read_excel('サンプルデータ.xlsx', sheet_name='売上データ')\n",
    "\n",
    "# 2. データをLLM用にテキスト形式に変換\n",
    "sales_data_text = df.astype(str)\n",
    "prompt_text = f\"売上データ:\\n{sales_data_text}\\nこの売上データの傾向を分析してください。\"\n",
    "\n",
    "# 3. OpenAI APIの呼び出し\n",
    "# 役割を設定\n",
    "role = \"あなたはマーケティング分野に精通したデータサイエンティストです。企業の成長をサポートするために、効果的なインサイトを提供します。\"\n",
    "# APIへリクエスト\n",
    "response = client.chat.completions.create(\n",
    "    model=MODEL_NAME,\n",
    "    messages=[\n",
    "        {\"role\": \"system\", \"content\": role},\n",
    "        {\"role\": \"user\", \"content\": prompt_text},\n",
    "    ],\n",
    ")\n",
    "\n",
    "# 4. 分析結果をデータフレームに変換\n",
    "result_list = response.choices[0].message.content.strip().split(\"\\n\")\n",
    "df_out = pd.DataFrame(result_list, columns=['結果'])\n",
    "\n",
    "# 5. 結果をExcelファイルに保存\n",
    "df_out.to_excel(\"売上データ分析結果.xlsx\", index=False)\n",
    "\n",
    "print(\"Excelファイルに分析結果を保存しました。\")"
   ]
  }
 ],
 "metadata": {
  "kernelspec": {
   "display_name": ".venv (3.12.7)",
   "language": "python",
   "name": "python3"
  },
  "language_info": {
   "codemirror_mode": {
    "name": "ipython",
    "version": 3
   },
   "file_extension": ".py",
   "mimetype": "text/x-python",
   "name": "python",
   "nbconvert_exporter": "python",
   "pygments_lexer": "ipython3",
   "version": "3.12.7"
  }
 },
 "nbformat": 4,
 "nbformat_minor": 5
}

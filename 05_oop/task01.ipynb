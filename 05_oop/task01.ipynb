{
 "cells": [
  {
   "cell_type": "code",
   "execution_count": 8,
   "id": "309ce47a",
   "metadata": {},
   "outputs": [],
   "source": [
    "class BankAccount:\n",
    "    def __init__(self, balance):\n",
    "        self.__balance = balance\n",
    "\n",
    "    def deposit(self, amount):\n",
    "        if amount < 0:\n",
    "            print(\"エラー: 正しい金額を入力してください\")\n",
    "        self.__balance += amount\n",
    "    \n",
    "    def withdraw(self, amount):\n",
    "        if amount < 0 or self.__balance < amount:\n",
    "            print(\"エラー: 残高不足または無効な金額です\")   \n",
    "        self.__balance -= amount\n",
    "    \n",
    "    def get_balance(self):\n",
    "        return self.__balance"
   ]
  },
  {
   "cell_type": "code",
   "execution_count": 10,
   "id": "93ace5d0",
   "metadata": {},
   "outputs": [
    {
     "name": "stdout",
     "output_type": "stream",
     "text": [
      "1300\n",
      "エラー: 残高不足または無効な金額です\n",
      "エラー: 正しい金額を入力してください\n"
     ]
    }
   ],
   "source": [
    "account = BankAccount(1000)\n",
    "account.deposit(500)\n",
    "account.withdraw(200)\n",
    "print(account.get_balance())\n",
    "account.withdraw(1500)\n",
    "account.deposit(-500)"
   ]
  }
 ],
 "metadata": {
  "kernelspec": {
   "display_name": ".venv (3.9.6)",
   "language": "python",
   "name": "python3"
  },
  "language_info": {
   "codemirror_mode": {
    "name": "ipython",
    "version": 3
   },
   "file_extension": ".py",
   "mimetype": "text/x-python",
   "name": "python",
   "nbconvert_exporter": "python",
   "pygments_lexer": "ipython3",
   "version": "3.12.7"
  }
 },
 "nbformat": 4,
 "nbformat_minor": 5
}

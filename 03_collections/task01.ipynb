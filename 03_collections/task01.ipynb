{
 "cells": [
  {
   "cell_type": "code",
   "execution_count": 18,
   "id": "cdd46a3d",
   "metadata": {},
   "outputs": [
    {
     "name": "stdout",
     "output_type": "stream",
     "text": [
      "平均点: 86.6\n",
      "最高点: 92\n",
      "最低点: 78\n",
      "平均以上の学生数: 3\n"
     ]
    }
   ],
   "source": [
    "grades = [85, 90, 78, 92, 88]\n",
    "\n",
    "average = sum(grades) / len(grades)\n",
    "\n",
    "max_grade = max(grades)\n",
    "min_grade = min(grades)\n",
    "\n",
    "count_above_average = 0\n",
    "for grade in grades:\n",
    "    if grade >= average:\n",
    "        count_above_average += 1\n",
    "\n",
    "print(f\"平均点: {average:.1f}\")\n",
    "print(f\"最高点: {max_grade}\")\n",
    "print(f\"最低点: {min_grade}\")\n",
    "print(f\"平均以上の学生数: {count_above_average}\")"
   ]
  }
 ],
 "metadata": {
  "kernelspec": {
   "display_name": ".venv (3.9.6)",
   "language": "python",
   "name": "python3"
  },
  "language_info": {
   "codemirror_mode": {
    "name": "ipython",
    "version": 3
   },
   "file_extension": ".py",
   "mimetype": "text/x-python",
   "name": "python",
   "nbconvert_exporter": "python",
   "pygments_lexer": "ipython3",
   "version": "3.12.7"
  }
 },
 "nbformat": 4,
 "nbformat_minor": 5
}

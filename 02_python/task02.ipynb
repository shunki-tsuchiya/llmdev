{
 "cells": [
  {
   "cell_type": "code",
   "execution_count": null,
   "id": "8dfac5d9",
   "metadata": {},
   "outputs": [
    {
     "name": "stdout",
     "output_type": "stream",
     "text": [
      "税抜価格：1500\n",
      "送料は350円です\n",
      "送料込税込価格は2000円です。\n"
     ]
    }
   ],
   "source": [
    "while True:\n",
    "    input_price_excl_tax = input(\"税抜価格を入力してください：\")\n",
    "    if not input_price_excl_tax.strip():\n",
    "        print(\"⚠️入力が空です。税抜を入力してください。\")\n",
    "        continue\n",
    "    try:\n",
    "        price_excl_tax = int(input_price_excl_tax)\n",
    "        if price_excl_tax < 0:\n",
    "            print(\"⚠️税抜価格は0以上で入力してください。\")\n",
    "            continue\n",
    "        break\n",
    "    except ValueError:\n",
    "        print(\"⚠️数字を入力してください。\")\n",
    "\n",
    "print(f\"税抜価格：{price_excl_tax}\")\n",
    "\n",
    "tax_rate = 0.1\n",
    "price_inc_tax = int(round(price_excl_tax * (1 + tax_rate)))\n",
    "\n",
    "shipping_fee = 350\n",
    "if price_inc_tax >= 2000:\n",
    "    print(\"送料は無料です\")\n",
    "    total_price = price_inc_tax\n",
    "else:\n",
    "    print(f\"送料は{shipping_fee}円です\")\n",
    "    total_price = price_inc_tax + shipping_fee\n",
    "\n",
    "print(f\"送料込税込価格は{total_price}円です\")\n",
    "\n"
   ]
  }
 ],
 "metadata": {
  "kernelspec": {
   "display_name": ".venv (3.9.6)",
   "language": "python",
   "name": "python3"
  },
  "language_info": {
   "codemirror_mode": {
    "name": "ipython",
    "version": 3
   },
   "file_extension": ".py",
   "mimetype": "text/x-python",
   "name": "python",
   "nbconvert_exporter": "python",
   "pygments_lexer": "ipython3",
   "version": "3.12.7"
  }
 },
 "nbformat": 4,
 "nbformat_minor": 5
}

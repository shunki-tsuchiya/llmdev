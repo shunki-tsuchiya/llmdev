{
 "cells": [
  {
   "cell_type": "code",
   "execution_count": 4,
   "id": "f717c5cc",
   "metadata": {},
   "outputs": [
    {
     "name": "stdout",
     "output_type": "stream",
     "text": [
      "エラー: 数値を入力してください\n"
     ]
    }
   ],
   "source": [
    "try:\n",
    "    num1 = float(input(\"割られる数を入力してください: \"))\n",
    "    num2 = float(input(\"割る数を入力してください: \"))\n",
    "\n",
    "    if num2 == 0:\n",
    "        raise ZeroDivisionError(\"エラー: 0 で割ることはできません\")\n",
    "    else:\n",
    "        result = num1 / num2\n",
    "        print(f\"計算結果: {result}\")\n",
    "except ZeroDivisionError as e:\n",
    "    print(e)\n",
    "except ValueError:\n",
    "    print(\"エラー: 数値を入力してください\")"
   ]
  }
 ],
 "metadata": {
  "kernelspec": {
   "display_name": ".venv (3.9.6)",
   "language": "python",
   "name": "python3"
  },
  "language_info": {
   "codemirror_mode": {
    "name": "ipython",
    "version": 3
   },
   "file_extension": ".py",
   "mimetype": "text/x-python",
   "name": "python",
   "nbconvert_exporter": "python",
   "pygments_lexer": "ipython3",
   "version": "3.12.7"
  }
 },
 "nbformat": 4,
 "nbformat_minor": 5
}

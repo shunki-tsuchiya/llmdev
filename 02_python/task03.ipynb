{
 "cells": [
  {
   "cell_type": "code",
   "execution_count": 6,
   "id": "076fec79",
   "metadata": {},
   "outputs": [
    {
     "name": "stdout",
     "output_type": "stream",
     "text": [
      "元金: 1000\n",
      "年利: 5\n",
      "10年後の金額: 1628.89\n"
     ]
    }
   ],
   "source": [
    "while True:\n",
    "    input_principal = input(\"元金を入力してください：\")\n",
    "    if not input_principal.strip():\n",
    "        print(\"⚠️入力が空です。元金を入力してください。\")\n",
    "        continue\n",
    "    input_interest_rate = input(\"年利を入力してください：\")\n",
    "    if not input_interest_rate.strip():\n",
    "        print(\"⚠️入力が空です。年利を入力してください。\")\n",
    "        continue\n",
    "    try:\n",
    "        principal = int(input_principal)\n",
    "        interest_rate = int(input_interest_rate)\n",
    "        if principal < 0:\n",
    "            print(\"⚠️元金価格は0以上で入力してください。\")\n",
    "            continue\n",
    "        if interest_rate < 0:\n",
    "            print(\"⚠️年利価格は0以上で入力してください。\")\n",
    "            continue\n",
    "        break\n",
    "    except ValueError:\n",
    "        print(\"⚠️数字を入力してください。\")\n",
    "\n",
    "print(f\"元金: {principal}\")\n",
    "print(f\"年利: {interest_rate}\")\n",
    "\n",
    "years = 10\n",
    "\n",
    "for _ in range(years):\n",
    "    principal *= 1 + (interest_rate / 100)\n",
    "\n",
    "print(f\"{years}年後の金額: {principal:.2f}\")"
   ]
  }
 ],
 "metadata": {
  "kernelspec": {
   "display_name": ".venv (3.9.6)",
   "language": "python",
   "name": "python3"
  },
  "language_info": {
   "codemirror_mode": {
    "name": "ipython",
    "version": 3
   },
   "file_extension": ".py",
   "mimetype": "text/x-python",
   "name": "python",
   "nbconvert_exporter": "python",
   "pygments_lexer": "ipython3",
   "version": "3.12.7"
  }
 },
 "nbformat": 4,
 "nbformat_minor": 5
}

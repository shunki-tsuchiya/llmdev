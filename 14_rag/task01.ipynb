{
 "cells": [
  {
   "cell_type": "code",
   "execution_count": 5,
   "id": "972c6ba7",
   "metadata": {},
   "outputs": [
    {
     "data": {
      "text/plain": [
       "'質問:こんにちは'"
      ]
     },
     "metadata": {},
     "output_type": "display_data"
    },
    {
     "name": "stdout",
     "output_type": "stream",
     "text": [
      "こんにちは！今日はどんなことをお手伝いできますか？\n"
     ]
    },
    {
     "data": {
      "text/plain": [
       "'質問:退職するときの手続きを教えて'"
      ]
     },
     "metadata": {},
     "output_type": "display_data"
    },
    {
     "name": "stdout",
     "output_type": "stream",
     "text": [
      "退職するときの手続きには以下のステップがあります。\n",
      "\n",
      "1. **退職の申し出と届け出**: 自己都合退職を希望する場合、退職希望日の1ヶ月前までに直属の上司に申し出る必要があります。また、退職届を提出し、その後、退職日や引き継ぎ内容について上司と人事部と協議します。\n",
      "\n",
      "2. **退職までの流れ**:\n",
      "   - **引き継ぎ**: 担当業務の進捗や内容、必要な手順を文書にまとめ、後任者へ引き継ぎます。\n",
      "   - **社内備品の返却**: 会社の備品（パソコン、スマートフォン、IDカード、制服など）を退職日までに返却します。\n",
      "   - **最終面談**: 人事部による退職面談が実施され、退職理由や今後のキャリア計画について意見を伺います。\n",
      "\n",
      "3. **退職日の決定**: 退職日は業務の都合や引き継ぎ内容を考慮して、上司および人事部と話し合いの上で最終決定されます。\n",
      "\n",
      "これらの手続きを踏むことで、円滑に退職することができます。他に知りたいことがあれば教えてください。\n",
      "\n",
      "---ご利用ありがとうございました！---\n"
     ]
    }
   ],
   "source": [
    "# 必要なモジュールをインポート\n",
    "import os\n",
    "from dotenv import load_dotenv\n",
    "from llama_index.core import VectorStoreIndex, SimpleDirectoryReader\n",
    "from llama_index.llms.openai import OpenAI\n",
    "\n",
    "# 環境変数の取得\n",
    "load_dotenv(\"../.env\")\n",
    "os.environ['OPENAI_API_KEY']  = os.environ['OPENAI_API_KEY']\n",
    "\n",
    "# モデル名\n",
    "MODEL_NAME = \"gpt-4o-mini\"\n",
    "\n",
    "# Indexの構築\n",
    "documents = SimpleDirectoryReader('./data/text').load_data()\n",
    "index = VectorStoreIndex.from_documents(documents)\n",
    "\n",
    "# Chat Engineの作成\n",
    "llm = OpenAI(model=MODEL_NAME)\n",
    "chat_engine = index.as_chat_engine(llm=llm)\n",
    "\n",
    "# チャットの開始\n",
    "while(True):\n",
    "    message = input(\"メッセージを入力:\")\n",
    "    if message.strip()==\"\":\n",
    "        break\n",
    "    display(f\"質問:{message}\")\n",
    "\n",
    "    # 質問（以下にソースコードを記述）\n",
    "    response = chat_engine.chat(message)\n",
    "\n",
    "    # 回答を表示（以下にソースコードを記述）\n",
    "    print(response)\n",
    "\n",
    "print(\"\\n---ご利用ありがとうございました！---\")\n"
   ]
  }
 ],
 "metadata": {
  "kernelspec": {
   "display_name": ".venv (3.12.7)",
   "language": "python",
   "name": "python3"
  },
  "language_info": {
   "codemirror_mode": {
    "name": "ipython",
    "version": 3
   },
   "file_extension": ".py",
   "mimetype": "text/x-python",
   "name": "python",
   "nbconvert_exporter": "python",
   "pygments_lexer": "ipython3",
   "version": "3.12.7"
  }
 },
 "nbformat": 4,
 "nbformat_minor": 5
}
